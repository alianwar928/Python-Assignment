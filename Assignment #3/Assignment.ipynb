{
 "cells": [
  {
   "cell_type": "code",
   "execution_count": 1,
   "id": "ab54c963-b77c-4bda-9339-e415d759352c",
   "metadata": {},
   "outputs": [
    {
     "name": "stdout",
     "output_type": "stream",
     "text": [
      "hello world\n"
     ]
    }
   ],
   "source": [
    "print(\"hello world\")"
   ]
  },
  {
   "cell_type": "code",
   "execution_count": 1,
   "id": "3016d12b-d246-43d4-8c54-707f8b1d0628",
   "metadata": {},
   "outputs": [
    {
     "name": "stdout",
     "output_type": "stream",
     "text": [
      "Twinkle, twinkle, little star,\n",
      "         How I wonder what you are\n",
      "                 Up above the world so high\n",
      "                 Like a diamond in the sky\n",
      "Twinkle, twinkle, little star,\n",
      "         How I wonder what you are\n"
     ]
    }
   ],
   "source": [
    "print(\"Twinkle, twinkle, little star,\")\n",
    "print(\"         How I wonder what you are\")\n",
    "print(\"                 Up above the world so high\")\n",
    "print(\"                 Like a diamond in the sky\")\n",
    "print(\"Twinkle, twinkle, little star,\")\n",
    "print(\"         How I wonder what you are\")"
   ]
  },
  {
   "cell_type": "code",
   "execution_count": 2,
   "id": "d20a4789-8e45-491b-b69f-27ff08ee1871",
   "metadata": {},
   "outputs": [
    {
     "name": "stdout",
     "output_type": "stream",
     "text": [
      "Python 3.9.7\n"
     ]
    }
   ],
   "source": [
    "!python --version"
   ]
  },
  {
   "cell_type": "code",
   "execution_count": 7,
   "id": "67f18a47-569d-4e3d-b548-772bc4cb2957",
   "metadata": {},
   "outputs": [
    {
     "name": "stdout",
     "output_type": "stream",
     "text": [
      "2021-12-30 01:50:28.194338\n"
     ]
    }
   ],
   "source": [
    "import datetime;\n",
    "currenttime=datetime.datetime.now();\n",
    "print(currenttime);"
   ]
  },
  {
   "cell_type": "code",
   "execution_count": 14,
   "id": "d9b815d9-08ca-4de5-a737-84ee7e2b084e",
   "metadata": {},
   "outputs": [
    {
     "name": "stdin",
     "output_type": "stream",
     "text": [
      "Enter Radius Of Circle 3\n"
     ]
    },
    {
     "name": "stdout",
     "output_type": "stream",
     "text": [
      "Area is  28.285714285714285\n"
     ]
    }
   ],
   "source": [
    "radius=input(\"Enter Radius Of Circle\");\n",
    "Area=float(radius)*float(radius)*(22/7);\n",
    "print(\"Area is \",+ float(Area));"
   ]
  },
  {
   "cell_type": "code",
   "execution_count": 17,
   "id": "b7c31d2e-6daa-4b17-a5ba-a4efa69336da",
   "metadata": {},
   "outputs": [
    {
     "name": "stdin",
     "output_type": "stream",
     "text": [
      "Enter first Name ali\n",
      "Enter last Name shamsi\n"
     ]
    },
    {
     "name": "stdout",
     "output_type": "stream",
     "text": [
      "shamsi ali\n"
     ]
    }
   ],
   "source": [
    "fName=input(\"Enter first Name\");\n",
    "lName=input(\"Enter last Name\");\n",
    "print(lName + \" \" + fName);"
   ]
  },
  {
   "cell_type": "code",
   "execution_count": 19,
   "id": "7b0f5a7f-ca7a-4ab3-8fc7-f02d118ce2b4",
   "metadata": {},
   "outputs": [
    {
     "name": "stdin",
     "output_type": "stream",
     "text": [
      "Enter first number 4\n",
      "Enter second number 5\n"
     ]
    },
    {
     "name": "stdout",
     "output_type": "stream",
     "text": [
      "9\n"
     ]
    }
   ],
   "source": [
    "num1=input(\"Enter first number\");\n",
    "num2=input(\"Enter second number\");\n",
    "result=int(num1) + int(num2)\n",
    "print(result);"
   ]
  },
  {
   "cell_type": "code",
   "execution_count": null,
   "id": "8ad9b417-b7c3-4bdd-8b3a-a14cd64c8963",
   "metadata": {},
   "outputs": [],
   "source": []
  }
 ],
 "metadata": {
  "kernelspec": {
   "display_name": "Python 3 (ipykernel)",
   "language": "python",
   "name": "python3"
  },
  "language_info": {
   "codemirror_mode": {
    "name": "ipython",
    "version": 3
   },
   "file_extension": ".py",
   "mimetype": "text/x-python",
   "name": "python",
   "nbconvert_exporter": "python",
   "pygments_lexer": "ipython3",
   "version": "3.9.7"
  }
 },
 "nbformat": 4,
 "nbformat_minor": 5
}
